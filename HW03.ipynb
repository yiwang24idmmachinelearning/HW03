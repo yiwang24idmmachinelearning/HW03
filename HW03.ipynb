{
 "cells": [
  {
   "cell_type": "markdown",
   "metadata": {
    "id": "QshK8s21WBrf"
   },
   "source": [
    "# HW03\n",
    "\n",
    "## Some exercises to get started with data analysis in Python"
   ]
  },
  {
   "cell_type": "markdown",
   "metadata": {
    "id": "7Hf8SXUwWOho"
   },
   "source": [
    "### Setup\n",
    "\n",
    "Run the following 2 cells to import all necessary libraries and helpers for Homework 02"
   ]
  },
  {
   "cell_type": "code",
   "execution_count": 1,
   "metadata": {},
   "outputs": [],
   "source": [
    "!wget -q https://github.com/DM-GY-9103-2024F-H/9103-utils/raw/main/src/data_utils.py"
   ]
  },
  {
   "cell_type": "code",
   "execution_count": 2,
   "metadata": {},
   "outputs": [],
   "source": [
    "import matplotlib.pyplot as plt\n",
    "\n",
    "from HW03_utils import Tests\n",
    "from data_utils import object_from_json_url"
   ]
  },
  {
   "cell_type": "markdown",
   "metadata": {
    "id": "CR-PEugdX6Tz"
   },
   "source": [
    "### Exercise 01:\n",
    "\n",
    "Finding the sum of integer sequences.\n",
    "\n",
    "Create a function ```sum_of_ints(i0, i1)``` that returns the sum of all integers between two integers.\n",
    "\n",
    "For example, ```sum_of_ints(4, 32)``` should return $522$.\n"
   ]
  },
  {
   "cell_type": "code",
   "execution_count": 8,
   "metadata": {
    "tags": [
     "work_cell"
    ]
   },
   "outputs": [],
   "source": [
    "## Work on exercise 01 here\n",
    "\n",
    "def sum_of_ints(i0, i1):\n",
    "  # TODO: fill in this function\n",
    "    if i0>i1:\n",
    "        i0,i1=i1,i0 #这一行的作用是确保 i0 始终小于或等于 i1，\n",
    "        #以避免用户输入的两个数顺序反转（例如 i0 比 i1 大的情况）。如果 i0 比 i1 大，程序就会自动交换这两个值。\n",
    "    return sum(range(i0, i1 + 1))#Python 中的 range 函数生成的是不包含终点的，因此需要加 1 来包含 i1。\n",
    "\n",
    "  "
   ]
  },
  {
   "cell_type": "markdown",
   "metadata": {
    "id": "MKA9RSFMYn9p"
   },
   "source": [
    "### Exercise 01 testing:\n",
    "\n",
    "Running the following cell will test the ```sum_of_ints()``` function on a small set of input pairs and report any combination that isn't computing correctly, if any."
   ]
  },
  {
   "cell_type": "code",
   "execution_count": 9,
   "metadata": {},
   "outputs": [
    {
     "name": "stdout",
     "output_type": "stream",
     "text": [
      "01: All tests passed 🎉🎉🎉\n"
     ]
    }
   ],
   "source": [
    "# Test 01\n",
    "Tests.test(\"01\", sum_of_ints)"
   ]
  },
  {
   "cell_type": "markdown",
   "metadata": {
    "id": "tlj9rUWg_eLq"
   },
   "source": [
    "### Exercise 02:\n",
    "\n",
    "Working with lists and dictionaries/objects.\n",
    "\n",
    "Write a function `sum_objects(in_list)` that accept a list of objects and returns a sum according to the following specifications:\n",
    "\n",
    "Each object in the list has 2 fields, `type` and `amount`, and so will look something like this:\n",
    "\n",
    "```python\n",
    "list = [\n",
    "  { \"type\": \"cost\", \"amount\": 10.00 },\n",
    "  { \"type\": \"cost\", \"amount\": 15.99 },\n",
    "  { \"type\": \"income\", \"amount\": 150.25 },\n",
    "  { \"type\": \"income\", \"amount\": 243.52 },\n",
    "]\n",
    "```\n",
    "\n",
    "The `sum_objects(in_list)` function should iterate through all of the items in `in_list` and sum their `amount`s using positive values when `type` is `\"income\"`, and negative values when `type` is `\"cost\"`.\n",
    "\n",
    "For example, passing the above list to the function should return $367.78$."
   ]
  },
  {
   "cell_type": "code",
   "execution_count": 10,
   "metadata": {
    "tags": [
     "work_cell"
    ]
   },
   "outputs": [],
   "source": [
    "# Implement 02 here\n",
    "def sum_objects(in_list):\n",
    "  x = 0\n",
    "  # TODO: fill this in\n",
    "  for obj in in_list:\n",
    "    if obj[\"type\"]== \"income\":\n",
    "      x += obj[\"amount\"]\n",
    "    elif obj[\"type\"]== \"cost\":\n",
    "      x -= obj[\"amount\"]\n",
    "  return x"
   ]
  },
  {
   "cell_type": "code",
   "execution_count": 11,
   "metadata": {},
   "outputs": [
    {
     "data": {
      "text/plain": [
       "367.78"
      ]
     },
     "execution_count": 11,
     "metadata": {},
     "output_type": "execute_result"
    }
   ],
   "source": [
    "# Run this cell to test if function returns 367.78\n",
    "\n",
    "test_list = [\n",
    "  { \"type\": \"cost\", \"amount\": 10.00 },\n",
    "  { \"type\": \"cost\", \"amount\": 15.99 },\n",
    "  { \"type\": \"income\", \"amount\": 150.25 },\n",
    "  { \"type\": \"income\", \"amount\": 243.52 },\n",
    "]\n",
    "\n",
    "sum_objects(test_list)"
   ]
  },
  {
   "cell_type": "markdown",
   "metadata": {
    "id": "h26qEqysLLrq"
   },
   "source": [
    "#### Exercise 02 test:\n",
    "\n",
    "Run the following cell to test the `sum_objects()` function."
   ]
  },
  {
   "cell_type": "code",
   "execution_count": 7,
   "metadata": {},
   "outputs": [
    {
     "name": "stdout",
     "output_type": "stream",
     "text": [
      "02: All tests passed 🎉🎉🎉\n"
     ]
    }
   ],
   "source": [
    "# Test 02\n",
    "Tests.test(\"02\", sum_objects)"
   ]
  },
  {
   "cell_type": "markdown",
   "metadata": {
    "id": "prKGt8bzScNA"
   },
   "source": [
    "### Exercise 03:\n",
    "\n",
    "Working with data files.\n",
    "\n",
    "Find the name and population of the 3 cities that are geographically closest to the world's most populous city.\n",
    "\n",
    "# 🤔😱\n"
   ]
  },
  {
   "cell_type": "markdown",
   "metadata": {
    "id": "FKsnl_NYTSk0"
   },
   "source": [
    "#### Load Data:\n",
    "\n",
    "Let's break this down into a few sub-problems.\n",
    "\n",
    "First, let's load a JSON file that has information about large cities in the world.\n",
    "\n",
    "The file at this [URL](https://raw.githubusercontent.com/DM-GY-9103-2024F-H/9103-utils/main/datasets/json/cities50k.json) has a list of cities formatted like this:\n",
    "\n",
    "```py\n",
    "{\n",
    "  \"name\": \"Pittsburgh\",\n",
    "  \"country\": \"US\",\n",
    "  \"admin1\": \"Pennsylvania\",\n",
    "  \"lat\": 40.4406200,\n",
    "  \"lon\": -79.9958900,\n",
    "  \"pop\": 304391\n",
    "}\n",
    "```\n",
    "\n",
    "This is just like how we loaded ANSUR data files in class:"
   ]
  },
  {
   "cell_type": "code",
   "execution_count": 3,
   "metadata": {},
   "outputs": [],
   "source": [
    "# Define the location of the json file here\n",
    "CITIES_FILE = \"https://raw.githubusercontent.com/DM-GY-9103-2024F-H/9103-utils/main/datasets/json/cities50k.json\"\n",
    "\n",
    "# Use the object_from_json_url() function to load contents from \n",
    "# the json file into a Python object called \"info_cities\"\n",
    "\n",
    "info_cities = object_from_json_url(CITIES_FILE)"
   ]
  },
  {
   "cell_type": "markdown",
   "metadata": {
    "id": "KeWkaI_lYzIE"
   },
   "source": [
    "#### Exercise 03A:\n",
    "\n",
    "Ok. We should now have a list of objects with information about cities.\n",
    "\n",
    "Explore the data and answer the following questions:\n",
    "- How many cities are in this list?\n",
    "- What's the name of the first city on the list?\n",
    "- What are the latitude and longitude of the last city on the list?\n",
    "- What are the populations for the largest and smallest cities?\n",
    "- What's the name of the city with the largest population?\n"
   ]
  },
  {
   "cell_type": "code",
   "execution_count": 4,
   "metadata": {
    "tags": [
     "work_cell"
    ]
   },
   "outputs": [
    {
     "name": "stdout",
     "output_type": "stream",
     "text": [
      "8670\n",
      "Abu Dhabi\n",
      "-17.88333\n",
      "30.7\n",
      "22315474\n",
      "50011\n",
      "Shanghai\n"
     ]
    }
   ],
   "source": [
    "# Work on 03A here\n",
    "\n",
    "# How many cities are in the list?\n",
    "num_cities = len(info_cities)\n",
    "print(num_cities)\n",
    "\n",
    "# What's the name of the first city on the list?\n",
    "first_city = [C[\"name\"] for C in info_cities][0]\n",
    "print(first_city)\n",
    "\n",
    "# What are the latitude and longitude of the last city on the list?\n",
    "last_city = [C[\"lat\"] for C in info_cities]\n",
    "last_latitude = last_city[-1]\n",
    "print(last_latitude)\n",
    "\n",
    "last_city = [C[\"lon\"] for C in info_cities]\n",
    "last_longitude = last_city[-1]\n",
    "print(last_longitude)\n",
    "\n",
    "# What are the populations for the largest and smallest cities?\n",
    "populations = [C[\"pop\"] for C in info_cities]\n",
    "largest_population = max(populations)\n",
    "smallest_population = min (populations)\n",
    "print(largest_population)\n",
    "print(smallest_population)\n",
    "\n",
    "# What's the name of the city with the largest population?\n",
    "city_with_largest_population = max(info_cities,key=lambda C: C[\"pop\"])\n",
    "largest_city_name = (city_with_largest_population[\"name\"])\n",
    "print(largest_city_name)"
   ]
  },
  {
   "cell_type": "markdown",
   "metadata": {},
   "source": [
    "#### Test 03A"
   ]
  },
  {
   "cell_type": "code",
   "execution_count": 5,
   "metadata": {},
   "outputs": [
    {
     "name": "stdout",
     "output_type": "stream",
     "text": [
      "03A: All tests passed 🎉🎉🎉\n"
     ]
    }
   ],
   "source": [
    "# Test 03A\n",
    "answers = [num_cities, first_city, last_latitude, last_longitude, largest_population, smallest_population, largest_city_name]\n",
    "\n",
    "Tests.test(\"03A\", answers)"
   ]
  },
  {
   "cell_type": "markdown",
   "metadata": {
    "id": "nJylXsSrZ7DH"
   },
   "source": [
    "#### Exercise 03B:\n",
    "\n",
    "We have the largest city's name and population, but we need its position.\n",
    "\n",
    "We can recycle some of the logic from above to get the whole object that contains information for the largest city."
   ]
  },
  {
   "cell_type": "code",
   "execution_count": 6,
   "metadata": {
    "tags": [
     "work_cell"
    ]
   },
   "outputs": [
    {
     "name": "stdout",
     "output_type": "stream",
     "text": [
      "Largest city:\n",
      "Name: Shanghai\n",
      "Population: 22315474\n",
      "Latitude: 31.22222\n",
      "Longitude: 121.45806\n"
     ]
    }
   ],
   "source": [
    "# Work on 03B here\n",
    "largest_city = (city_with_largest_population)\n",
    "largest_city_name = (city_with_largest_population[\"name\"])\n",
    "largest_city_population = (city_with_largest_population[\"pop\"])\n",
    "largest_city_latitude = (city_with_largest_population[\"lat\"])\n",
    "largest_city_longitude = (city_with_largest_population[\"lon\"])\n",
    "print(\"Largest city:\")\n",
    "print(\"Name:\", largest_city_name)\n",
    "print(\"Population:\", largest_city_population)\n",
    "print(\"Latitude:\", largest_city_latitude)\n",
    "print(\"Longitude:\", largest_city_longitude)\n"
   ]
  },
  {
   "cell_type": "code",
   "execution_count": 7,
   "metadata": {},
   "outputs": [
    {
     "name": "stdout",
     "output_type": "stream",
     "text": [
      "03B: All tests passed 🎉🎉🎉\n"
     ]
    }
   ],
   "source": [
    "# Test 03B\n",
    "Tests.test(\"03B\", largest_city)"
   ]
  },
  {
   "cell_type": "markdown",
   "metadata": {
    "id": "nJylXsSrZ7DH"
   },
   "source": [
    "#### Exercise 03C:\n",
    "\n",
    "We should have all info about the largest city here.\n",
    "\n",
    "Now, we'll iterate through the list and use each city's latitude and longitude to calculate its distance from the largest city.\n",
    "\n",
    "Althought not $100\\%$ correct, it's ok to use the [2D Euclidean distances](https://en.wikipedia.org/wiki/Euclidean_distance#Two_dimensions) for this.\n",
    "\n",
    "Could be useful to define a function `distance(cityA, cityB)` that returns the distance between two cities."
   ]
  },
  {
   "cell_type": "code",
   "execution_count": 8,
   "metadata": {
    "tags": [
     "work_cell"
    ]
   },
   "outputs": [],
   "source": [
    "# Work on 03C here\n",
    "\n",
    "# Implement the helper function for calculating distances between 2 cities\n",
    "import math\n",
    "def distance(cityA, cityB):\n",
    "  latA, lonA = cityA[\"lat\"], cityA[\"lon\"] \n",
    "  latB, lonB = cityB[\"lat\"], cityB[\"lon\"]\n",
    "  dist = math.sqrt((latB - latA) ** 2 + (lonB - lonA) ** 2)\n",
    "  return dist"
   ]
  },
  {
   "cell_type": "code",
   "execution_count": 9,
   "metadata": {},
   "outputs": [
    {
     "name": "stdout",
     "output_type": "stream",
     "text": [
      "03C: All tests passed 🎉🎉🎉\n"
     ]
    }
   ],
   "source": [
    "# Test 03C\n",
    "Tests.test(\"03C\", distance)"
   ]
  },
  {
   "cell_type": "markdown",
   "metadata": {
    "id": "27RWtZVJeRp4"
   },
   "source": [
    "#### Exercise 03D:\n",
    "\n",
    "Ok. We implemented a function to calculate the distance between 2 cities, let's use it now.\n",
    "\n",
    "Iterate through the list of cities again, calculate the distance from each city to the largest city, and add that as a new feature/key to each city's entry:\n",
    "\n",
    "```py\n",
    "{\n",
    "  \"name\": \"Pittsburgh\",\n",
    "  \"country\": \"US\",\n",
    "  \"admin1\": \"Pennsylvania\",\n",
    "  \"lat\": 40.4406200,\n",
    "  \"lon\": -79.9958900,\n",
    "  \"pop\": 304391,\n",
    "  \"distance\": 1222.32\n",
    "}\n",
    "```\n",
    "\n",
    "\n",
    "Or, iterate through the list of cities, calculate the distance from each city to the largest city and save the name, population and distance of each city on a separate list, maybe called `city_distances`.\n",
    "\n",
    "`city_distances` could look something like this:\n",
    "\n",
    "```py\n",
    "[\n",
    "  { \"name\": \"Abu Dhabi\", \"pop\": 603492, \"distance\": 12.34 },\n",
    "  { \"name\": \"Ajman City\", \"pop\": 490035, \"distance\": 98.76 },\n",
    "  ...\n",
    "  { \"name\": \"Norton\", \"pop\": 52054, \"distance\": 56.78 }\n",
    "]\n",
    "```\n",
    "\n",
    "Just make sure the `key` that holds the distance value is called `distance`."
   ]
  },
  {
   "cell_type": "code",
   "execution_count": 15,
   "metadata": {
    "tags": [
     "work_cell"
    ]
   },
   "outputs": [
    {
     "name": "stdout",
     "output_type": "stream",
     "text": [
      "[{'name': 'Norton', 'pop': 52054, 'distance': 103.19099038077937}]\n"
     ]
    }
   ],
   "source": [
    "# Work on 03D here\n",
    "\n",
    "# Now calculate every city's distance from the largest city and     \n",
    "# add that info to each city's entry or save that on a new list\n",
    "# with their name and pop\n",
    "# \n",
    "for city in info_cities:\n",
    "    if city != largest_city:\n",
    "        city[\"distance\"] = distance(city, largest_city)\n",
    "    else:\n",
    "        city[\"distance\"] = 0\n",
    "\n",
    "#Or add a new feature/key to each city's entry\n",
    "city_distances = []\n",
    "for city in info_cities:\n",
    "    if city != largest_city:\n",
    "        dist = distance(city, largest_city)\n",
    "    else:\n",
    "        dist = 0\n",
    "\n",
    "city_info = {\n",
    "    \"name\": city[\"name\"],\n",
    "    \"pop\": city[\"pop\"],\n",
    "    \"distance\": dist\n",
    "    }\n",
    "city_distances.append(city_info)\n",
    "\n",
    "print(city_distances)"
   ]
  },
  {
   "cell_type": "code",
   "execution_count": 11,
   "metadata": {},
   "outputs": [
    {
     "name": "stdout",
     "output_type": "stream",
     "text": [
      "03D: All tests passed 🎉🎉🎉\n"
     ]
    }
   ],
   "source": [
    "# Test 03D\n",
    "#Tests.test(\"03D\", city_distances)\n",
    "\n",
    "# OR\n",
    "Tests.test(\"03D\", info_cities)"
   ]
  },
  {
   "cell_type": "markdown",
   "metadata": {
    "id": "xJG6V-DufauE"
   },
   "source": [
    "#### Exercise 03E:\n",
    "\n",
    "Now, sort the array from the previous step by distance and get the name and population of the 3 cities closest to the largest city.\n",
    "\n",
    "The answer should be an object where its keys are city names and values are populations.\n",
    "\n",
    "Something like:\n",
    "\n",
    "```python\n",
    "closest_3 = {\n",
    "  \"pittsburgh\": 23412,\n",
    "  \"liverpool\": 172821,\n",
    "  \"oakland\": 182726\n",
    "}\n",
    "```\n",
    "\n",
    "We saw how to sort lists of objects in lecture."
   ]
  },
  {
   "cell_type": "code",
   "execution_count": 12,
   "metadata": {
    "tags": [
     "work_cell"
    ]
   },
   "outputs": [
    {
     "name": "stdout",
     "output_type": "stream",
     "text": [
      "{'Norton': 52054}\n"
     ]
    }
   ],
   "source": [
    "# Work on 03E here\n",
    "# Sort the array and get the name and population of the 3 cities closest to the largest city\n",
    "sorted_cities_by_distance = sorted(city_distances, key=lambda city: city['distance'])\n",
    "closest_cities = sorted_cities_by_distance[:3]\n",
    "closest_3 = {city['name']: city['pop'] for city in closest_cities}\n",
    "print(closest_3)"
   ]
  },
  {
   "cell_type": "code",
   "execution_count": 14,
   "metadata": {},
   "outputs": [
    {
     "name": "stdout",
     "output_type": "stream",
     "text": [
      "ERROR: There are fewer than 3 cities with distance data or the list is empty.\n"
     ]
    }
   ],
   "source": [
    "# Step 1: 查看 city_distances 列表是否正确\n",
    "if not city_distances or len(city_distances) < 3:\n",
    "    print(\"ERROR: There are fewer than 3 cities with distance data or the list is empty.\")\n",
    "else:\n",
    "    print(f\"Total number of cities: {len(city_distances)}\")\n",
    "    print(f\"First few cities (for preview): {city_distances[:5]}\")\n",
    "\n",
    "    # Step 2: 按照距离排序\n",
    "    sorted_cities_by_distance = sorted(city_distances, key=lambda city: city['distance'])\n",
    "    print(\"Sorted cities by distance (preview):\", sorted_cities_by_distance[:5])  # 打印排序后的前5个城市\n",
    "\n",
    "    # Step 3: 获取前 3 个最近的城市\n",
    "    closest_cities = sorted_cities_by_distance[:3]\n",
    "    print(\"Closest 3 cities:\", closest_cities)\n",
    "\n",
    "    # Step 4: 创建字典，包含城市名称和人口\n",
    "    closest_3 = {city['name']: city['pop'] for city in closest_cities}\n",
    "    \n",
    "    # Step 5: 检查字典内容\n",
    "    if len(closest_3) != 3:\n",
    "        print(f\"ERROR: closest_3 dictionary contains {len(closest_3)} entries instead of 3.\")\n",
    "    else:\n",
    "        print(\"Final result (closest 3 cities):\", closest_3)\n"
   ]
  },
  {
   "cell_type": "code",
   "execution_count": 13,
   "metadata": {},
   "outputs": [
    {
     "name": "stdout",
     "output_type": "stream",
     "text": [
      "ERROR Check answer object. There should be exactly 3 key/value pairs in it.\n"
     ]
    }
   ],
   "source": [
    "# Test 03F\n",
    "Tests.test(\"03E\", closest_3)"
   ]
  },
  {
   "cell_type": "markdown",
   "metadata": {
    "id": "nengUZA4WfPb"
   },
   "source": [
    "### Exercise 04:\n",
    "\n",
    "Visualizing data files.\n"
   ]
  },
  {
   "cell_type": "markdown",
   "metadata": {
    "id": "mvoFMxi1dQEc"
   },
   "source": [
    "#### Loading The Data:\n",
    "\n",
    "Let's load a JSON file that has information about houses in the Los Angeles metropolitan region of California.\n",
    "\n",
    "The file at this [url](https://raw.githubusercontent.com/DM-GY-9103-2024F-H/9103-utils/main/datasets/json/LA_housing.json) has a list of objects formatted like this:\n",
    "\n",
    "```python\n",
    "{\n",
    "  \"longitude\": -114.310,\n",
    "  \"latitude\": 34.190,\n",
    "  \"age\": 15,\n",
    "  \"rooms\": 12.234,\n",
    "  \"bedrooms\": 3.514,\n",
    "  \"value\": 669000\n",
    "}\n",
    "```\n",
    "\n",
    "The number of rooms and bedrooms are not integers because some addresses have multiple units/apartments with different floorplans that get averaged."
   ]
  },
  {
   "cell_type": "code",
   "execution_count": 36,
   "metadata": {
    "id": "S2bnMyEoWmxL",
    "tags": []
   },
   "outputs": [],
   "source": [
    "# Define the location of the json file\n",
    "HOUSES_FILE = \"https://raw.githubusercontent.com/DM-GY-9103-2024F-H/9103-utils/main/datasets/json/LA_housing.json\"\n",
    "\n",
    "# Use the object_from_json_url() function to load\n",
    "# the json file into a Python object called \"info_houses\"\n",
    "\n",
    "info_houses = object_from_json_url(HOUSES_FILE)"
   ]
  },
  {
   "cell_type": "markdown",
   "metadata": {
    "id": "w_oZ0_CogIiM"
   },
   "source": [
    "#### Exercise 04A:\n",
    "\n",
    "Explore the data and answer the following questions:\n",
    "- How many instances are there in our dataset?\n",
    "- What's the value of the most expensive house?\n",
    "- What's the max number of bedrooms in a house?\n",
    "- What's the number of bedrooms in the house with the most rooms?\n",
    "- What's the number of rooms in the house with the most bedrooms?"
   ]
  },
  {
   "cell_type": "markdown",
   "metadata": {},
   "source": [
    "#### Exercise 04A:\n",
    "\n",
    "Explore the data and answer the following questions:\n",
    "- How many instances are there in our dataset?\n",
    "- What's the value of the most expensive house?\n",
    "- What's the max number of bedrooms in a house?\n",
    "- What's the number of bedrooms in the house with the most rooms?\n",
    "- What's the number of rooms in the house with the most bedrooms?"
   ]
  },
  {
   "cell_type": "code",
   "execution_count": 44,
   "metadata": {
    "tags": [
     "work_cell"
    ]
   },
   "outputs": [],
   "source": [
    "# Work on 04A here\n",
    "# How many instances are there in our dataset?\n",
    "num_instances = len(info_houses)\n",
    "\n",
    "# This is the same as asking \"how many rows\" or, in this case, \"how many houses\"\n",
    "num_houses= (len(info_houses))\n",
    "\n",
    "# What's the value of the most expensive house?\n",
    "max_value = max(house['value'] for house in info_houses)\n",
    "\n",
    "# What's the number of bedrooms in the house with the most bedrooms?\n",
    "most_bedrooms = max(house['bedrooms'] for house in info_houses)\n",
    "\n",
    "# What's the number of bedrooms in the house with the most rooms?\n",
    "house_with_most_rooms = max(info_houses, key=lambda house: house['rooms'])\n",
    "bedrooms_in_most_rooms = house_with_most_rooms['bedrooms']\n",
    "\n",
    "# What's the number of rooms in the house with the most bedrooms?\n",
    "house_with_most_bedrooms = max(info_houses, key=lambda house: house['bedrooms'])\n",
    "rooms_in_most_bedrooms = house_with_most_bedrooms['rooms']"
   ]
  },
  {
   "cell_type": "code",
   "execution_count": 45,
   "metadata": {},
   "outputs": [
    {
     "name": "stdout",
     "output_type": "stream",
     "text": [
      "04A: All tests passed 🎉🎉🎉\n"
     ]
    }
   ],
   "source": [
    "# Test 04A\n",
    "answers = [num_houses, max_value, most_bedrooms, bedrooms_in_most_rooms, rooms_in_most_bedrooms]\n",
    "\n",
    "Tests.test(\"04A\", answers)"
   ]
  },
  {
   "cell_type": "markdown",
   "metadata": {
    "id": "sy2gQI7_hNTC"
   },
   "source": [
    "#### Exercise 04B:\n",
    "\n",
    "Which of the features (`longitude`, `latitude`, `age`, `rooms` or `bedrooms`) is a better indicator for value of a house?\n",
    "\n",
    "We're going to use XY scatter plots to visualize house value as a function of each of these features, and see if any of them show strong correlation.\n",
    "\n",
    "Documentation for the plotting library is here:\n",
    "https://matplotlib.org/stable/api/_as_gen/matplotlib.pyplot.scatter.html\n",
    "\n",
    "One thing to note is that the functions for plotting like to get lists of values and not lists of objects.\n",
    "\n",
    "Before we plot anything, let's define a function `list_from_key(objs, key)` that returns a list with all values of feature `key` for all of the objects in `objs`."
   ]
  },
  {
   "cell_type": "code",
   "execution_count": 16,
   "metadata": {
    "tags": [
     "work_cell"
    ]
   },
   "outputs": [],
   "source": [
    "# Work on 04B here\n",
    "\n",
    "# helper function to get lists of values from specific key\n",
    "def list_from_key(objs, key):\n",
    "  # TODO: implement the list_from_key functionality\n",
    "  return [obj[key] for obj in objs]\n"
   ]
  },
  {
   "cell_type": "code",
   "execution_count": null,
   "metadata": {},
   "outputs": [],
   "source": []
  },
  {
   "cell_type": "code",
   "execution_count": 17,
   "metadata": {},
   "outputs": [
    {
     "name": "stdout",
     "output_type": "stream",
     "text": [
      "04B: All tests passed 🎉🎉🎉\n"
     ]
    }
   ],
   "source": [
    "# Test 04B\n",
    "Tests.test(\"04B\", list_from_key)"
   ]
  },
  {
   "cell_type": "markdown",
   "metadata": {},
   "source": [
    "#### Exercise 04C:\n",
    "\n",
    "Now we can actually plot some values and start looking for correlations.\n",
    "\n",
    "Pick a feature and make a graph that shows house prices as a function of that feature.\n",
    "\n",
    "You can also write a for loop to plot graphs for all features."
   ]
  },
  {
   "cell_type": "code",
   "execution_count": 18,
   "metadata": {
    "tags": [
     "work_cell"
    ]
   },
   "outputs": [
    {
     "ename": "NameError",
     "evalue": "name 'info_houses' is not defined",
     "output_type": "error",
     "traceback": [
      "\u001b[0;31m---------------------------------------------------------------------------\u001b[0m",
      "\u001b[0;31mNameError\u001b[0m                                 Traceback (most recent call last)",
      "Cell \u001b[0;32mIn[18], line 4\u001b[0m\n\u001b[1;32m      2\u001b[0m \u001b[38;5;28;01mimport\u001b[39;00m \u001b[38;5;21;01mmatplotlib\u001b[39;00m\u001b[38;5;21;01m.\u001b[39;00m\u001b[38;5;21;01mpyplot\u001b[39;00m \u001b[38;5;28;01mas\u001b[39;00m \u001b[38;5;21;01mplt\u001b[39;00m\n\u001b[1;32m      3\u001b[0m \u001b[38;5;66;03m# TODO: get a list with all of the price values\u001b[39;00m\n\u001b[0;32m----> 4\u001b[0m prices \u001b[38;5;241m=\u001b[39m list_from_key(\u001b[43minfo_houses\u001b[49m, \u001b[38;5;124m'\u001b[39m\u001b[38;5;124mprice\u001b[39m\u001b[38;5;124m'\u001b[39m)\n\u001b[1;32m      5\u001b[0m \u001b[38;5;66;03m# TODO: get a list with all of the house ages (for example)\u001b[39;00m\n\u001b[1;32m      6\u001b[0m house_ages \u001b[38;5;241m=\u001b[39m list_from_key(info_houses, \u001b[38;5;124m'\u001b[39m\u001b[38;5;124mage\u001b[39m\u001b[38;5;124m'\u001b[39m)\n",
      "\u001b[0;31mNameError\u001b[0m: name 'info_houses' is not defined"
     ]
    }
   ],
   "source": [
    "# Work on 04C here\n",
    "import matplotlib.pyplot as plt\n",
    "# TODO: get a list with all of the price values\n",
    "prices = list_from_key(info_houses, 'price')\n",
    "# TODO: get a list with all of the house ages (for example)\n",
    "house_ages = list_from_key(info_houses, 'age')\n",
    "\n",
    "# this is the command to plot a XY scatter plot from 2 lists\n",
    "# see documentation: https://matplotlib.org/stable/api/_as_gen/matplotlib.pyplot.scatter.html\n",
    "\n",
    "plt.scatter(house_ages, prices)\n",
    "plt.xlabel(\"age\")\n",
    "plt.ylabel(\"value\")\n",
    "plt.show()"
   ]
  },
  {
   "cell_type": "markdown",
   "metadata": {},
   "source": [
    "#### What are some features that correlate with price ?"
   ]
  },
  {
   "cell_type": "markdown",
   "metadata": {
    "tags": [
     "work_cell"
    ]
   },
   "source": [
    "Answer 04C here. Double-click to edit Markdown."
   ]
  },
  {
   "cell_type": "markdown",
   "metadata": {
    "id": "UTMOs6zJsWbN"
   },
   "source": [
    "#### Foreshadowing:\n",
    "\n",
    "What if we use two features at a time?\n",
    "\n",
    "Is there a pair of features (`longitude`, `latitude`, `age`, `rooms` or `bedrooms`) that correlates to house value?\n",
    "\n",
    "We could look at the relationship between `price`, `age` and `rooms`:"
   ]
  },
  {
   "cell_type": "code",
   "execution_count": null,
   "metadata": {
    "id": "JdA6xihhraSa",
    "tags": []
   },
   "outputs": [],
   "source": [
    "# get a list with all of the price values\n",
    "prices = list_from_key(info_houses, \"value\")\n",
    "\n",
    "# get a list with all of the values of one feature\n",
    "feature_0_values = list_from_key(info_houses, \"age\")\n",
    "\n",
    "# get a list with all of the values of another feature\n",
    "feature_1_values = list_from_key(info_houses, \"rooms\")\n",
    "\n",
    "# this is how we plot an XY scatter plot using 3 lists\n",
    "# see documentation: https://matplotlib.org/stable/api/_as_gen/matplotlib.pyplot.scatter.html\n",
    "\n",
    "plt.scatter(feature_0_values, feature_1_values, c=prices, alpha=0.3)\n",
    "plt.xlabel(\"age\")\n",
    "plt.ylabel(\"rooms\")\n",
    "plt.show()"
   ]
  },
  {
   "cell_type": "markdown",
   "metadata": {},
   "source": [
    "Or, we could write a little for loop to plot all possible pairs of features:"
   ]
  },
  {
   "cell_type": "code",
   "execution_count": null,
   "metadata": {
    "tags": []
   },
   "outputs": [],
   "source": [
    "# to plot all feature pairs\n",
    "# get list of all features\n",
    "features = info_houses[0].keys()\n",
    "prices = list_from_key(info_houses, \"value\")\n",
    "\n",
    "# get all pairs of features\n",
    "for idx_0, feature_0 in enumerate(features):\n",
    "  x = list_from_key(info_houses, feature_0)\n",
    "  for idx_1, feature_1 in enumerate(features):\n",
    "    y = list_from_key(info_houses, feature_1)\n",
    "    # skip repeated features\n",
    "    if feature_0 != \"value\" and feature_1 != \"value\" and idx_1 > idx_0:\n",
    "      plt.scatter(x, y, c=prices, alpha=0.3)\n",
    "      plt.xlabel(feature_0)\n",
    "      plt.ylabel(feature_1)\n",
    "      plt.show()"
   ]
  }
 ],
 "metadata": {
  "colab": {
   "authorship_tag": "ABX9TyPxe2qYxIG7EblrvD1C4Pmv",
   "provenance": []
  },
  "kernelspec": {
   "display_name": "Python 3.9.17 ('hf-model')",
   "language": "python",
   "name": "python3"
  },
  "language_info": {
   "codemirror_mode": {
    "name": "ipython",
    "version": 3
   },
   "file_extension": ".py",
   "mimetype": "text/x-python",
   "name": "python",
   "nbconvert_exporter": "python",
   "pygments_lexer": "ipython3",
   "version": "3.10.15"
  },
  "vscode": {
   "interpreter": {
    "hash": "89e384cab7c47fb35ec95d2248b519cf922ee174880eed636c26cdfb6c4df768"
   }
  }
 },
 "nbformat": 4,
 "nbformat_minor": 0
}
