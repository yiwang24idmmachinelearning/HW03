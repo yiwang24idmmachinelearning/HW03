{
 "cells": [
  {
   "cell_type": "markdown",
   "metadata": {
    "id": "QshK8s21WBrf"
   },
   "source": [
    "# HW03\n",
    "\n",
    "## Some exercises to get started with data analysis in Python"
   ]
  },
  {
   "cell_type": "markdown",
   "metadata": {
    "id": "7Hf8SXUwWOho"
   },
   "source": [
    "### Setup\n",
    "\n",
    "Run the following 2 cells to import all necessary libraries and helpers for Homework 02"
   ]
  },
  {
   "cell_type": "code",
   "execution_count": null,
   "metadata": {},
   "outputs": [],
   "source": [
    "!wget -q https://github.com/DM-GY-9103-2024F-H/9103-utils/raw/main/src/data_utils.py"
   ]
  },
  {
   "cell_type": "code",
   "execution_count": null,
   "metadata": {},
   "outputs": [],
   "source": [
    "import matplotlib.pyplot as plt\n",
    "\n",
    "from HW03_utils import Tests\n",
    "from data_utils import object_from_json_url"
   ]
  },
  {
   "cell_type": "markdown",
   "metadata": {
    "id": "CR-PEugdX6Tz"
   },
   "source": [
    "### Exercise 01:\n",
    "\n",
    "Finding the sum of integer sequences.\n",
    "\n",
    "Create a function ```sum_of_ints(i0, i1)``` that returns the sum of all integers between two integers.\n",
    "\n",
    "For example, ```sum_of_ints(4, 32)``` should return $522$.\n"
   ]
  },
  {
   "cell_type": "code",
   "execution_count": null,
   "metadata": {
    "tags": [
     "work_cell"
    ]
   },
   "outputs": [],
   "source": [
    "## Work on exercise 01 here\n",
    "\n",
    "def sum_of_ints(i0, i1):\n",
    "  # TODO: fill in this function\n",
    "  return 0\n"
   ]
  },
  {
   "cell_type": "markdown",
   "metadata": {
    "id": "MKA9RSFMYn9p"
   },
   "source": [
    "### Exercise 01 testing:\n",
    "\n",
    "Running the following cell will test the ```sum_of_ints()``` function on a small set of input pairs and report any combination that isn't computing correctly, if any."
   ]
  },
  {
   "cell_type": "code",
   "execution_count": null,
   "metadata": {},
   "outputs": [],
   "source": [
    "# Test 01\n",
    "Tests.test(\"01\", sum_of_ints)"
   ]
  },
  {
   "cell_type": "markdown",
   "metadata": {
    "id": "tlj9rUWg_eLq"
   },
   "source": [
    "### Exercise 02:\n",
    "\n",
    "Working with lists and dictionaries/objects.\n",
    "\n",
    "Write a function `sum_objects(in_list)` that accept a list of objects and returns a sum according to the following specifications:\n",
    "\n",
    "Each object in the list has 2 fields, `type` and `amount`, and so will look something like this:\n",
    "\n",
    "```python\n",
    "list = [\n",
    "  { \"type\": \"cost\", \"amount\": 10.00 },\n",
    "  { \"type\": \"cost\", \"amount\": 15.99 },\n",
    "  { \"type\": \"income\", \"amount\": 150.25 },\n",
    "  { \"type\": \"income\", \"amount\": 243.52 },\n",
    "]\n",
    "```\n",
    "\n",
    "The `sum_objects(in_list)` function should iterate through all of the items in `in_list` and sum their `amount`s using positive values when `type` is `\"income\"`, and negative values when `type` is `\"cost\"`.\n",
    "\n",
    "For example, passing the above list to the function should return $367.78$."
   ]
  },
  {
   "cell_type": "code",
   "execution_count": null,
   "metadata": {
    "tags": [
     "work_cell"
    ]
   },
   "outputs": [],
   "source": [
    "# Implement 02 here\n",
    "\n",
    "def sum_objects(in_list):\n",
    "  # TODO: fill this in\n",
    "  return 0\n"
   ]
  },
  {
   "cell_type": "code",
   "execution_count": null,
   "metadata": {},
   "outputs": [],
   "source": [
    "# Run this cell to test if function returns 367.78\n",
    "\n",
    "test_list = [\n",
    "  { \"type\": \"cost\", \"amount\": 10.00 },\n",
    "  { \"type\": \"cost\", \"amount\": 15.99 },\n",
    "  { \"type\": \"income\", \"amount\": 150.25 },\n",
    "  { \"type\": \"income\", \"amount\": 243.52 },\n",
    "]\n",
    "\n",
    "sum_objects(test_list)"
   ]
  },
  {
   "cell_type": "markdown",
   "metadata": {
    "id": "h26qEqysLLrq"
   },
   "source": [
    "#### Exercise 02 test:\n",
    "\n",
    "Run the following cell to test the `sum_objects()` function."
   ]
  },
  {
   "cell_type": "code",
   "execution_count": null,
   "metadata": {},
   "outputs": [],
   "source": [
    "# Test 02\n",
    "Tests.test(\"02\", sum_objects)"
   ]
  },
  {
   "cell_type": "markdown",
   "metadata": {
    "id": "prKGt8bzScNA"
   },
   "source": [
    "### Exercise 03:\n",
    "\n",
    "Working with data files.\n",
    "\n",
    "Find the name and population of the 3 cities that are geographically closest to the world's most populous city.\n",
    "\n",
    "# 🤔😱\n"
   ]
  },
  {
   "cell_type": "markdown",
   "metadata": {
    "id": "FKsnl_NYTSk0"
   },
   "source": [
    "#### Load Data:\n",
    "\n",
    "Let's break this down into a few sub-problems.\n",
    "\n",
    "First, let's load a JSON file that has information about large cities in the world.\n",
    "\n",
    "The file at this [URL](https://raw.githubusercontent.com/DM-GY-9103-2024F-H/9103-utils/main/datasets/json/cities50k.json) has a list of cities formatted like this:\n",
    "\n",
    "```py\n",
    "{\n",
    "  \"name\": \"Pittsburgh\",\n",
    "  \"country\": \"US\",\n",
    "  \"admin1\": \"Pennsylvania\",\n",
    "  \"lat\": 40.4406200,\n",
    "  \"lon\": -79.9958900,\n",
    "  \"pop\": 304391\n",
    "}\n",
    "```\n",
    "\n",
    "This is just like how we loaded ANSUR data files in class:"
   ]
  },
  {
   "cell_type": "code",
   "execution_count": null,
   "metadata": {},
   "outputs": [],
   "source": [
    "# Define the location of the json file here\n",
    "CITIES_FILE = \"https://raw.githubusercontent.com/DM-GY-9103-2024F-H/9103-utils/main/datasets/json/cities50k.json\"\n",
    "\n",
    "# Use the object_from_json_url() function to load contents from \n",
    "# the json file into a Python object called \"info_cities\"\n",
    "\n",
    "info_cities = object_from_json_url(CITIES_FILE)"
   ]
  },
  {
   "cell_type": "markdown",
   "metadata": {
    "id": "KeWkaI_lYzIE"
   },
   "source": [
    "#### Exercise 03A:\n",
    "\n",
    "Ok. We should now have a list of objects with information about cities.\n",
    "\n",
    "Explore the data and answer the following questions:\n",
    "- How many cities are in this list?\n",
    "- What's the name of the first city on the list?\n",
    "- What are the latitude and longitude of the last city on the list?\n",
    "- What are the populations for the largest and smallest cities?\n",
    "- What's the name of the city with the largest population?\n"
   ]
  },
  {
   "cell_type": "code",
   "execution_count": null,
   "metadata": {
    "tags": [
     "work_cell"
    ]
   },
   "outputs": [],
   "source": [
    "# Work on 03A here\n",
    "\n",
    "# How many cities are in the list?\n",
    "\n",
    "num_cities = 0\n",
    "\n",
    "\n",
    "# What's the name of the first city on the list?\n",
    "\n",
    "first_city = \"\"\n",
    "\n",
    "\n",
    "# What are the latitude and longitude of the last city on the list?\n",
    "\n",
    "last_latitude = 0\n",
    "last_longitude = 0\n",
    "\n",
    "\n",
    "# What are the populations for the largest and smallest cities?\n",
    "\n",
    "largest_population = 0\n",
    "smallest_population = 0\n",
    "\n",
    "\n",
    "# What's the name of the city with the largest population?\n",
    "\n",
    "largest_city_name = \"\""
   ]
  },
  {
   "cell_type": "markdown",
   "metadata": {},
   "source": [
    "#### Test 03A"
   ]
  },
  {
   "cell_type": "code",
   "execution_count": null,
   "metadata": {},
   "outputs": [],
   "source": [
    "# Test 03A\n",
    "answers = [num_cities, first_city, last_latitude, last_longitude, largest_population, smallest_population, largest_city_name]\n",
    "\n",
    "Tests.test(\"03A\", answers)"
   ]
  },
  {
   "cell_type": "markdown",
   "metadata": {
    "id": "nJylXsSrZ7DH"
   },
   "source": [
    "#### Exercise 03B:\n",
    "\n",
    "We have the largest city's name and population, but we need its position.\n",
    "\n",
    "We can recycle some of the logic from above to get the whole object that contains information for the largest city."
   ]
  },
  {
   "cell_type": "code",
   "execution_count": null,
   "metadata": {
    "tags": [
     "work_cell"
    ]
   },
   "outputs": [],
   "source": [
    "# Work on 03B here\n",
    "\n",
    "largest_city = {}\n"
   ]
  },
  {
   "cell_type": "code",
   "execution_count": null,
   "metadata": {},
   "outputs": [],
   "source": [
    "# Test 03B\n",
    "Tests.test(\"03B\", largest_city)"
   ]
  },
  {
   "cell_type": "markdown",
   "metadata": {
    "id": "nJylXsSrZ7DH"
   },
   "source": [
    "#### Exercise 03C:\n",
    "\n",
    "We should have all info about the largest city here.\n",
    "\n",
    "Now, we'll iterate through the list and use each city's latitude and longitude to calculate its distance from the largest city.\n",
    "\n",
    "Althought not $100\\%$ correct, it's ok to use the [2D Euclidean distances](https://en.wikipedia.org/wiki/Euclidean_distance#Two_dimensions) for this.\n",
    "\n",
    "Could be useful to define a function `distance(cityA, cityB)` that returns the distance between two cities."
   ]
  },
  {
   "cell_type": "code",
   "execution_count": null,
   "metadata": {
    "tags": [
     "work_cell"
    ]
   },
   "outputs": [],
   "source": [
    "# Work on 03C here\n",
    "\n",
    "# Implement the helper function for calculating distances between 2 cities\n",
    "\n",
    "def distance(cityA, cityB):\n",
    "  return 0\n"
   ]
  },
  {
   "cell_type": "code",
   "execution_count": null,
   "metadata": {},
   "outputs": [],
   "source": [
    "# Test 03C\n",
    "Tests.test(\"03C\", distance)"
   ]
  },
  {
   "cell_type": "markdown",
   "metadata": {
    "id": "27RWtZVJeRp4"
   },
   "source": [
    "#### Exercise 03D:\n",
    "\n",
    "Ok. We implemented a function to calculate the distance between 2 cities, let's use it now.\n",
    "\n",
    "Iterate through the list of cities again, calculate the distance from each city to the largest city, and add that as a new feature/key to each city's entry:\n",
    "\n",
    "```py\n",
    "{\n",
    "  \"name\": \"Pittsburgh\",\n",
    "  \"country\": \"US\",\n",
    "  \"admin1\": \"Pennsylvania\",\n",
    "  \"lat\": 40.4406200,\n",
    "  \"lon\": -79.9958900,\n",
    "  \"pop\": 304391,\n",
    "  \"distance\": 1222.32\n",
    "}\n",
    "```\n",
    "\n",
    "\n",
    "Or, iterate through the list of cities, calculate the distance from each city to the largest city and save the name, population and distance of each city on a separate list, maybe called `city_distances`.\n",
    "\n",
    "`city_distances` could look something like this:\n",
    "\n",
    "```py\n",
    "[\n",
    "  { \"name\": \"Abu Dhabi\", \"pop\": 603492, \"distance\": 12.34 },\n",
    "  { \"name\": \"Ajman City\", \"pop\": 490035, \"distance\": 98.76 },\n",
    "  ...\n",
    "  { \"name\": \"Norton\", \"pop\": 52054, \"distance\": 56.78 }\n",
    "]\n",
    "```\n",
    "\n",
    "Just make sure the `key` that holds the distance value is called `distance`."
   ]
  },
  {
   "cell_type": "code",
   "execution_count": null,
   "metadata": {
    "tags": [
     "work_cell"
    ]
   },
   "outputs": [],
   "source": [
    "# Work on 03D here\n",
    "\n",
    "# Now calculate every city's distance from the largest city and\n",
    "# add that info to each city's entry or save that on a new list\n",
    "# with their name and pop\n",
    "\n",
    "city_distances = []\n"
   ]
  },
  {
   "cell_type": "code",
   "execution_count": null,
   "metadata": {},
   "outputs": [],
   "source": [
    "# Test 03D\n",
    "Tests.test(\"03D\", city_distances)\n",
    "\n",
    "# OR\n",
    "#Tests.test(\"03D\", info_cities)"
   ]
  },
  {
   "cell_type": "markdown",
   "metadata": {
    "id": "xJG6V-DufauE"
   },
   "source": [
    "#### Exercise 03E:\n",
    "\n",
    "Now, sort the array from the previous step by distance and get the name and population of the 3 cities closest to the largest city.\n",
    "\n",
    "The answer should be an object where its keys are city names and values are populations.\n",
    "\n",
    "Something like:\n",
    "\n",
    "```python\n",
    "closest_3 = {\n",
    "  \"pittsburgh\": 23412,\n",
    "  \"liverpool\": 172821,\n",
    "  \"oakland\": 182726\n",
    "}\n",
    "```\n",
    "\n",
    "We saw how to sort lists of objects in lecture."
   ]
  },
  {
   "cell_type": "code",
   "execution_count": null,
   "metadata": {
    "tags": [
     "work_cell"
    ]
   },
   "outputs": [],
   "source": [
    "# Work on 03E here\n",
    "\n",
    "# Sort the array and get the name and population of the 3 cities closest to the largest city\n",
    "\n",
    "cities_by_distance = []\n",
    "\n",
    "closest_3 = {}\n"
   ]
  },
  {
   "cell_type": "code",
   "execution_count": null,
   "metadata": {},
   "outputs": [],
   "source": [
    "# Test 03F\n",
    "Tests.test(\"03E\", closest_3)"
   ]
  },
  {
   "cell_type": "markdown",
   "metadata": {
    "id": "nengUZA4WfPb"
   },
   "source": [
    "### Exercise 04:\n",
    "\n",
    "Visualizing data files.\n"
   ]
  },
  {
   "cell_type": "markdown",
   "metadata": {
    "id": "mvoFMxi1dQEc"
   },
   "source": [
    "#### Loading The Data:\n",
    "\n",
    "Let's load a JSON file that has information about houses in the Los Angeles metropolitan region of California.\n",
    "\n",
    "The file at this [url](https://raw.githubusercontent.com/DM-GY-9103-2024F-H/9103-utils/main/datasets/json/LA_housing.json) has a list of objects formatted like this:\n",
    "\n",
    "```python\n",
    "{\n",
    "  \"longitude\": -114.310,\n",
    "  \"latitude\": 34.190,\n",
    "  \"age\": 15,\n",
    "  \"rooms\": 12.234,\n",
    "  \"bedrooms\": 3.514,\n",
    "  \"value\": 669000\n",
    "}\n",
    "```\n",
    "\n",
    "The number of rooms and bedrooms are not integers because some addresses have multiple units/apartments with different floorplans that get averaged."
   ]
  },
  {
   "cell_type": "code",
   "execution_count": null,
   "metadata": {
    "id": "S2bnMyEoWmxL",
    "tags": []
   },
   "outputs": [],
   "source": [
    "# Define the location of the json file\n",
    "HOUSES_FILE = \"https://raw.githubusercontent.com/DM-GY-9103-2024F-H/9103-utils/main/datasets/json/LA_housing.json\"\n",
    "\n",
    "# Use the object_from_json_url() function to load\n",
    "# the json file into a Python object called \"info_houses\"\n",
    "\n",
    "info_houses = object_from_json_url(HOUSES_FILE)"
   ]
  },
  {
   "cell_type": "markdown",
   "metadata": {
    "id": "w_oZ0_CogIiM"
   },
   "source": [
    "#### Exercise 04A:\n",
    "\n",
    "Explore the data and answer the following questions:\n",
    "- How many instances are there in our dataset?\n",
    "- What's the value of the most expensive house?\n",
    "- What's the max number of bedrooms in a house?\n",
    "- What's the number of bedrooms in the house with the most rooms?\n",
    "- What's the number of rooms in the house with the most bedrooms?"
   ]
  },
  {
   "cell_type": "code",
   "execution_count": null,
   "metadata": {
    "tags": [
     "work_cell"
    ]
   },
   "outputs": [],
   "source": [
    "# Work on 04A here\n",
    "\n",
    "# How many instances are there in our dataset?\n",
    "# This is the same as asking \"how many rows\" or, in this case, \"how many houses\"\n",
    "\n",
    "num_houses = 0\n",
    "\n",
    "\n",
    "# What's the value of the most expensive house?\n",
    "\n",
    "max_value = 0\n",
    "\n",
    "\n",
    "# What's the number of bedrooms in the house with the most bedrooms?\n",
    "\n",
    "most_bedrooms = 0\n",
    "\n",
    "\n",
    "# What's the number of bedrooms in the house with the most rooms?\n",
    "\n",
    "bedrooms_in_most_rooms = 0\n",
    "\n",
    "\n",
    "# What's the number of rooms in the house with the most bedrooms?\n",
    "\n",
    "rooms_in_most_bedrooms = 0\n"
   ]
  },
  {
   "cell_type": "code",
   "execution_count": null,
   "metadata": {},
   "outputs": [],
   "source": [
    "# Test 04A\n",
    "answers = [num_houses, max_value, most_bedrooms, bedrooms_in_most_rooms, rooms_in_most_bedrooms]\n",
    "\n",
    "Tests.test(\"04A\", answers)"
   ]
  },
  {
   "cell_type": "markdown",
   "metadata": {
    "id": "sy2gQI7_hNTC"
   },
   "source": [
    "#### Exercise 04B:\n",
    "\n",
    "Which of the features (`longitude`, `latitude`, `age`, `rooms` or `bedrooms`) is a better indicator for value of a house?\n",
    "\n",
    "We're going to use XY scatter plots to visualize house value as a function of each of these features, and see if any of them show strong correlation.\n",
    "\n",
    "Documentation for the plotting library is here:\n",
    "https://matplotlib.org/stable/api/_as_gen/matplotlib.pyplot.scatter.html\n",
    "\n",
    "One thing to note is that the functions for plotting like to get lists of values and not lists of objects.\n",
    "\n",
    "Before we plot anything, let's define a function `list_from_key(objs, key)` that returns a list with all values of feature `key` for all of the objects in `objs`."
   ]
  },
  {
   "cell_type": "code",
   "execution_count": null,
   "metadata": {
    "tags": [
     "work_cell"
    ]
   },
   "outputs": [],
   "source": [
    "# Work on 04B here\n",
    "\n",
    "# helper function to get lists of values from specific key\n",
    "def list_from_key(objs, key):\n",
    "  # TODO: implement the list_from_key functionality\n",
    "  return []\n"
   ]
  },
  {
   "cell_type": "code",
   "execution_count": null,
   "metadata": {},
   "outputs": [],
   "source": [
    "# Test 04B\n",
    "Tests.test(\"04B\", list_from_key)"
   ]
  },
  {
   "cell_type": "markdown",
   "metadata": {},
   "source": [
    "#### Exercise 04C:\n",
    "\n",
    "Now we can actually plot some values and start looking for correlations.\n",
    "\n",
    "Pick a feature and make a graph that shows house prices as a function of that feature.\n",
    "\n",
    "You can also write a for loop to plot graphs for all features."
   ]
  },
  {
   "cell_type": "code",
   "execution_count": null,
   "metadata": {
    "tags": [
     "work_cell"
    ]
   },
   "outputs": [],
   "source": [
    "# Work on 04C here\n",
    "\n",
    "# TODO: get a list with all of the price values\n",
    "prices = []\n",
    "\n",
    "# TODO: get a list with all of the house ages (for example)\n",
    "house_ages = []\n",
    "\n",
    "\n",
    "# this is the command to plot a XY scatter plot from 2 lists\n",
    "# see documentation: https://matplotlib.org/stable/api/_as_gen/matplotlib.pyplot.scatter.html\n",
    "\n",
    "plt.scatter(house_ages, prices)\n",
    "plt.xlabel(\"age\")\n",
    "plt.ylabel(\"value\")\n",
    "plt.show()"
   ]
  },
  {
   "cell_type": "markdown",
   "metadata": {},
   "source": [
    "#### What are some features that correlate with price ?"
   ]
  },
  {
   "cell_type": "markdown",
   "metadata": {
    "tags": [
     "work_cell"
    ]
   },
   "source": [
    "Answer 04C here. Double-click to edit Markdown."
   ]
  },
  {
   "cell_type": "markdown",
   "metadata": {
    "id": "UTMOs6zJsWbN"
   },
   "source": [
    "#### Foreshadowing:\n",
    "\n",
    "What if we use two features at a time?\n",
    "\n",
    "Is there a pair of features (`longitude`, `latitude`, `age`, `rooms` or `bedrooms`) that correlates to house value?\n",
    "\n",
    "We could look at the relationship between `price`, `age` and `rooms`:"
   ]
  },
  {
   "cell_type": "code",
   "execution_count": null,
   "metadata": {
    "id": "JdA6xihhraSa",
    "tags": []
   },
   "outputs": [],
   "source": [
    "# get a list with all of the price values\n",
    "prices = list_from_key(info_houses, \"value\")\n",
    "\n",
    "# get a list with all of the values of one feature\n",
    "feature_0_values = list_from_key(info_houses, \"age\")\n",
    "\n",
    "# get a list with all of the values of another feature\n",
    "feature_1_values = list_from_key(info_houses, \"rooms\")\n",
    "\n",
    "# this is how we plot an XY scatter plot using 3 lists\n",
    "# see documentation: https://matplotlib.org/stable/api/_as_gen/matplotlib.pyplot.scatter.html\n",
    "\n",
    "plt.scatter(feature_0_values, feature_1_values, c=prices, alpha=0.3)\n",
    "plt.xlabel(\"age\")\n",
    "plt.ylabel(\"rooms\")\n",
    "plt.show()"
   ]
  },
  {
   "cell_type": "markdown",
   "metadata": {},
   "source": [
    "Or, we could write a little for loop to plot all possible pairs of features:"
   ]
  },
  {
   "cell_type": "code",
   "execution_count": null,
   "metadata": {
    "tags": []
   },
   "outputs": [],
   "source": [
    "# to plot all feature pairs\n",
    "# get list of all features\n",
    "features = info_houses[0].keys()\n",
    "prices = list_from_key(info_houses, \"value\")\n",
    "\n",
    "# get all pairs of features\n",
    "for idx_0, feature_0 in enumerate(features):\n",
    "  x = list_from_key(info_houses, feature_0)\n",
    "  for idx_1, feature_1 in enumerate(features):\n",
    "    y = list_from_key(info_houses, feature_1)\n",
    "    # skip repeated features\n",
    "    if feature_0 != \"value\" and feature_1 != \"value\" and idx_1 > idx_0:\n",
    "      plt.scatter(x, y, c=prices, alpha=0.3)\n",
    "      plt.xlabel(feature_0)\n",
    "      plt.ylabel(feature_1)\n",
    "      plt.show()"
   ]
  }
 ],
 "metadata": {
  "colab": {
   "authorship_tag": "ABX9TyPxe2qYxIG7EblrvD1C4Pmv",
   "provenance": []
  },
  "kernelspec": {
   "display_name": "Python 3.9.17 ('hf-model')",
   "language": "python",
   "name": "python3"
  },
  "language_info": {
   "codemirror_mode": {
    "name": "ipython",
    "version": 3
   },
   "file_extension": ".py",
   "mimetype": "text/x-python",
   "name": "python",
   "nbconvert_exporter": "python",
   "pygments_lexer": "ipython3",
   "version": "3.10.13"
  },
  "vscode": {
   "interpreter": {
    "hash": "89e384cab7c47fb35ec95d2248b519cf922ee174880eed636c26cdfb6c4df768"
   }
  }
 },
 "nbformat": 4,
 "nbformat_minor": 0
}
